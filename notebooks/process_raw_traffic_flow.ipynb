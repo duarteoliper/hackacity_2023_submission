{
 "cells": [
  {
   "cell_type": "markdown",
   "metadata": {},
   "source": [
    "Reads all of the json files inside the zip files of the transport data.\n",
    "Saves them to a csv file (consolidated traffic flow data)"
   ]
  },
  {
   "cell_type": "code",
   "execution_count": 1,
   "metadata": {},
   "outputs": [],
   "source": [
    "import os\n",
    "import glob\n",
    "import zipfile\n",
    "import pandas as pd\n",
    "import tempfile\n",
    "from tqdm import tqdm"
   ]
  },
  {
   "cell_type": "code",
   "execution_count": 2,
   "metadata": {},
   "outputs": [],
   "source": [
    "# Step 1: List all zip files\n",
    "years = ['2022', '2023']\n",
    "data_path = \"../data/raw/Hackacity 23/Datasets/Traffic Detectors/Data/\"\n",
    "zip_files = []\n",
    "for year in years:\n",
    "    full_path = os.path.join(data_path, f'{year}/*/*.zip')\n",
    "    zip_files.extend(glob.glob(full_path))"
   ]
  },
  {
   "cell_type": "code",
   "execution_count": 5,
   "metadata": {},
   "outputs": [],
   "source": [
    "# Create a CSV file to store the data\n",
    "output_csv = 'consolidated_traffic_flow_data.csv'\n",
    "iterim_data_path = \"../data/interim/\"\n",
    "full_output_path = os.path.join(iterim_data_path, output_csv)\n",
    "\n",
    "# Check if the CSV file exists and create it if it doesn't\n",
    "if not os.path.isfile(full_output_path):\n",
    "    with open(full_output_path, 'w') as f:\n",
    "        pass"
   ]
  },
  {
   "cell_type": "code",
   "execution_count": 9,
   "metadata": {},
   "outputs": [
    {
     "name": "stderr",
     "output_type": "stream",
     "text": [
      "100%|██████████| 127/127 [00:11<00:00, 11.12it/s]\n",
      "100%|██████████| 127/127 [00:21<00:00,  5.95it/s]\n",
      "100%|██████████| 127/127 [00:02<00:00, 51.13it/s]\n",
      "100%|██████████| 127/127 [00:42<00:00,  2.96it/s]\n",
      "100%|██████████| 127/127 [00:14<00:00,  9.00it/s]\n",
      "100%|██████████| 127/127 [00:17<00:00,  7.36it/s]\n",
      "100%|██████████| 127/127 [00:16<00:00,  7.58it/s]\n",
      "100%|██████████| 127/127 [00:05<00:00, 22.59it/s]\n",
      "100%|██████████| 127/127 [00:36<00:00,  3.48it/s]\n",
      "100%|██████████| 127/127 [00:12<00:00, 10.49it/s]\n",
      "100%|██████████| 127/127 [00:08<00:00, 15.75it/s]\n",
      "100%|██████████| 127/127 [00:09<00:00, 14.09it/s]\n",
      "100%|██████████| 127/127 [01:00<00:00,  2.11it/s]\n",
      "100%|██████████| 127/127 [00:38<00:00,  3.32it/s]\n",
      "100%|██████████| 127/127 [01:01<00:00,  2.07it/s]\n",
      "100%|██████████| 127/127 [00:47<00:00,  2.67it/s]\n",
      "100%|██████████| 127/127 [00:50<00:00,  2.51it/s]\n",
      "100%|██████████| 17/17 [07:51<00:00, 27.73s/it]\n"
     ]
    }
   ],
   "source": [
    "# Step 2: Extract zip files and Step 3: Read JSON files\n",
    "all_dataframes = []\n",
    "for zip_file in tqdm(zip_files):\n",
    "    with tempfile.TemporaryDirectory() as tmpdirname:\n",
    "        with zipfile.ZipFile(zip_file, 'r') as zip_ref:\n",
    "            zip_ref.extractall(tmpdirname)\n",
    "        \n",
    "        json_files = glob.glob(os.path.join(tmpdirname, '*.json'))\n",
    "        for json_file in tqdm(json_files):\n",
    "            df = pd.read_json(json_file)\n",
    "            # Check if the file is empty to decide whether to write the header\n",
    "            write_header = not os.path.exists(full_output_path) or os.stat(full_output_path).st_size == 0\n",
    "            df.to_csv(full_output_path, mode='a', header=write_header, index=False)"
   ]
  }
 ],
 "metadata": {
  "kernelspec": {
   "display_name": "venv-hackacity",
   "language": "python",
   "name": "python3"
  },
  "language_info": {
   "codemirror_mode": {
    "name": "ipython",
    "version": 3
   },
   "file_extension": ".py",
   "mimetype": "text/x-python",
   "name": "python",
   "nbconvert_exporter": "python",
   "pygments_lexer": "ipython3",
   "version": "3.9.18"
  }
 },
 "nbformat": 4,
 "nbformat_minor": 2
}
