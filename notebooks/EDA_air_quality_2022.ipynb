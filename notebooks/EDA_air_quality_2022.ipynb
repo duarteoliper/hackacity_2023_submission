{
 "cells": [
  {
   "cell_type": "code",
   "execution_count": null,
   "metadata": {},
   "outputs": [],
   "source": [
    "from os.path import join\n",
    "\n",
    "import pandas as pd\n",
    "import plotly.graph_objs as go\n",
    "from plotly.subplots import make_subplots\n",
    "\n",
    "from config import data_raw_dir"
   ]
  },
  {
   "cell_type": "markdown",
   "metadata": {},
   "source": [
    "# Load air quality data"
   ]
  },
  {
   "cell_type": "code",
   "execution_count": null,
   "metadata": {},
   "outputs": [],
   "source": [
    "filename = join(data_raw_dir, \"urban-platform-air-quality-2022.csv\")"
   ]
  },
  {
   "cell_type": "code",
   "execution_count": null,
   "metadata": {},
   "outputs": [],
   "source": [
    "df = pd.read_csv(\n",
    "    filename,\n",
    "    header=0,\n",
    "    index_col=\"timestamp\",\n",
    "    parse_dates=True,\n",
    "    infer_datetime_format=True,\n",
    "    low_memory=False,\n",
    ")"
   ]
  },
  {
   "cell_type": "code",
   "execution_count": null,
   "metadata": {},
   "outputs": [],
   "source": [
    "df.isna().sum()"
   ]
  },
  {
   "cell_type": "markdown",
   "metadata": {},
   "source": [
    "# Group by location name"
   ]
  },
  {
   "cell_type": "code",
   "execution_count": null,
   "metadata": {},
   "outputs": [],
   "source": [
    "# Grouping by 'name' column\n",
    "locations = df.groupby(\"name\")\n",
    "\n",
    "# Creating a dictionary of sub-DataFrames\n",
    "sub_dfs = {location_name: location_df for location_name, location_df in locations}"
   ]
  },
  {
   "cell_type": "code",
   "execution_count": null,
   "metadata": {},
   "outputs": [],
   "source": [
    "sub_dfs.keys()"
   ]
  },
  {
   "cell_type": "markdown",
   "metadata": {},
   "source": [
    "# EDA - Parque da Cidade"
   ]
  },
  {
   "cell_type": "code",
   "execution_count": null,
   "metadata": {},
   "outputs": [],
   "source": [
    "pc = sub_dfs[\"Parque da Cidade\"]\n",
    "pc = pc.drop(\n",
    "    columns=[\n",
    "        \"latitude\",\n",
    "        \"longitude\",\n",
    "        \"name\",\n",
    "        \"entity_id\",\n",
    "        \"entity_type\",\n",
    "        \"date_observed\",\n",
    "        \"time_observed\",\n",
    "    ]\n",
    ")"
   ]
  },
  {
   "cell_type": "code",
   "execution_count": null,
   "metadata": {},
   "outputs": [],
   "source": [
    "pc.head(1)"
   ]
  },
  {
   "cell_type": "code",
   "execution_count": null,
   "metadata": {},
   "outputs": [],
   "source": [
    "pc.tail(1)"
   ]
  },
  {
   "cell_type": "code",
   "execution_count": null,
   "metadata": {},
   "outputs": [],
   "source": [
    "pc.columns"
   ]
  },
  {
   "cell_type": "code",
   "execution_count": null,
   "metadata": {},
   "outputs": [],
   "source": [
    "fig = make_subplots(\n",
    "    rows=len(pc.columns), cols=1, shared_xaxes=True, subplot_titles=pc.columns\n",
    ")\n",
    "\n",
    "for i, col in enumerate(pc.columns, start=1):\n",
    "    fig.add_trace(\n",
    "        go.Scatter(x=pc.index, y=pc[col], mode=\"lines\", name=col), row=i, col=1\n",
    "    )\n",
    "\n",
    "fig.update_layout(\n",
    "    title=\"Air Quality 2022 - Parque da Cidade\",\n",
    "    showlegend=False,\n",
    "    height=1000,  # Adjust the height of the plot\n",
    ")\n",
    "\n",
    "for i, col_name in enumerate(pc.columns, start=1):\n",
    "    fig.update_yaxes(title_text=col_name, row=i, col=1)\n",
    "\n",
    "fig.show()"
   ]
  }
 ],
 "metadata": {
  "language_info": {
   "codemirror_mode": {
    "name": "ipython",
    "version": 3
   },
   "file_extension": ".py",
   "mimetype": "text/x-python",
   "name": "python",
   "nbconvert_exporter": "python",
   "pygments_lexer": "ipython3",
   "version": "3.9.18"
  }
 },
 "nbformat": 4,
 "nbformat_minor": 2
}
