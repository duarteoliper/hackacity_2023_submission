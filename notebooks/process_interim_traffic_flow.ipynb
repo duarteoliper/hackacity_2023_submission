{
 "cells": [
  {
   "cell_type": "code",
   "execution_count": 1,
   "metadata": {},
   "outputs": [],
   "source": [
    "import pandas as pd"
   ]
  },
  {
   "cell_type": "code",
   "execution_count": 10,
   "metadata": {},
   "outputs": [],
   "source": [
    "# traffic flow dataframe\n",
    "tf_df = pd.read_csv(\"../data/interim/consolidated_traffic_flow_data.csv\")"
   ]
  },
  {
   "cell_type": "code",
   "execution_count": 5,
   "metadata": {},
   "outputs": [
    {
     "data": {
      "text/html": [
       "<div>\n",
       "<style scoped>\n",
       "    .dataframe tbody tr th:only-of-type {\n",
       "        vertical-align: middle;\n",
       "    }\n",
       "\n",
       "    .dataframe tbody tr th {\n",
       "        vertical-align: top;\n",
       "    }\n",
       "\n",
       "    .dataframe thead th {\n",
       "        text-align: right;\n",
       "    }\n",
       "</style>\n",
       "<table border=\"1\" class=\"dataframe\">\n",
       "  <thead>\n",
       "    <tr style=\"text-align: right;\">\n",
       "      <th></th>\n",
       "      <th>dateObservedFrom</th>\n",
       "      <th>dateObservedTo</th>\n",
       "      <th>id</th>\n",
       "      <th>location</th>\n",
       "      <th>intensity</th>\n",
       "      <th>ocupancy</th>\n",
       "    </tr>\n",
       "  </thead>\n",
       "  <tbody>\n",
       "    <tr>\n",
       "      <th>0</th>\n",
       "      <td>{'value': '2022-05-01T01:00:00+01:00'}</td>\n",
       "      <td>{'value': '2022-05-01T01:10:00+01:00'}</td>\n",
       "      <td>urn:ngsi-ld:TrafficFlowObserved:porto:traffic:...</td>\n",
       "      <td>{'value': {'coordinates': [41.147012, -8.63282...</td>\n",
       "      <td>{'value': 90}</td>\n",
       "      <td>{'value': 6}</td>\n",
       "    </tr>\n",
       "    <tr>\n",
       "      <th>1</th>\n",
       "      <td>{'value': '2022-05-01T01:00:00+01:00'}</td>\n",
       "      <td>{'value': '2022-05-01T01:10:00+01:00'}</td>\n",
       "      <td>urn:ngsi-ld:TrafficFlowObserved:porto:traffic:...</td>\n",
       "      <td>{'value': {'coordinates': [41.147012, -8.63282...</td>\n",
       "      <td>{'value': 270}</td>\n",
       "      <td>{'value': 14}</td>\n",
       "    </tr>\n",
       "    <tr>\n",
       "      <th>2</th>\n",
       "      <td>{'value': '2022-05-01T01:00:00+01:00'}</td>\n",
       "      <td>{'value': '2022-05-01T01:10:00+01:00'}</td>\n",
       "      <td>urn:ngsi-ld:TrafficFlowObserved:porto:traffic:...</td>\n",
       "      <td>{'value': {'coordinates': [41.147012, -8.63282...</td>\n",
       "      <td>{'value': 6}</td>\n",
       "      <td>{'value': 0}</td>\n",
       "    </tr>\n",
       "    <tr>\n",
       "      <th>3</th>\n",
       "      <td>{'value': '2022-05-01T01:10:00+01:00'}</td>\n",
       "      <td>{'value': '2022-05-01T01:20:00+01:00'}</td>\n",
       "      <td>urn:ngsi-ld:TrafficFlowObserved:porto:traffic:...</td>\n",
       "      <td>{'value': {'coordinates': [41.147012, -8.63282...</td>\n",
       "      <td>{'value': 108}</td>\n",
       "      <td>{'value': 7}</td>\n",
       "    </tr>\n",
       "    <tr>\n",
       "      <th>4</th>\n",
       "      <td>{'value': '2022-05-01T01:10:00+01:00'}</td>\n",
       "      <td>{'value': '2022-05-01T01:20:00+01:00'}</td>\n",
       "      <td>urn:ngsi-ld:TrafficFlowObserved:porto:traffic:...</td>\n",
       "      <td>{'value': {'coordinates': [41.147012, -8.63282...</td>\n",
       "      <td>{'value': 306}</td>\n",
       "      <td>{'value': 28}</td>\n",
       "    </tr>\n",
       "  </tbody>\n",
       "</table>\n",
       "</div>"
      ],
      "text/plain": [
       "                         dateObservedFrom  \\\n",
       "0  {'value': '2022-05-01T01:00:00+01:00'}   \n",
       "1  {'value': '2022-05-01T01:00:00+01:00'}   \n",
       "2  {'value': '2022-05-01T01:00:00+01:00'}   \n",
       "3  {'value': '2022-05-01T01:10:00+01:00'}   \n",
       "4  {'value': '2022-05-01T01:10:00+01:00'}   \n",
       "\n",
       "                           dateObservedTo  \\\n",
       "0  {'value': '2022-05-01T01:10:00+01:00'}   \n",
       "1  {'value': '2022-05-01T01:10:00+01:00'}   \n",
       "2  {'value': '2022-05-01T01:10:00+01:00'}   \n",
       "3  {'value': '2022-05-01T01:20:00+01:00'}   \n",
       "4  {'value': '2022-05-01T01:20:00+01:00'}   \n",
       "\n",
       "                                                  id  \\\n",
       "0  urn:ngsi-ld:TrafficFlowObserved:porto:traffic:...   \n",
       "1  urn:ngsi-ld:TrafficFlowObserved:porto:traffic:...   \n",
       "2  urn:ngsi-ld:TrafficFlowObserved:porto:traffic:...   \n",
       "3  urn:ngsi-ld:TrafficFlowObserved:porto:traffic:...   \n",
       "4  urn:ngsi-ld:TrafficFlowObserved:porto:traffic:...   \n",
       "\n",
       "                                            location       intensity  \\\n",
       "0  {'value': {'coordinates': [41.147012, -8.63282...   {'value': 90}   \n",
       "1  {'value': {'coordinates': [41.147012, -8.63282...  {'value': 270}   \n",
       "2  {'value': {'coordinates': [41.147012, -8.63282...    {'value': 6}   \n",
       "3  {'value': {'coordinates': [41.147012, -8.63282...  {'value': 108}   \n",
       "4  {'value': {'coordinates': [41.147012, -8.63282...  {'value': 306}   \n",
       "\n",
       "        ocupancy  \n",
       "0   {'value': 6}  \n",
       "1  {'value': 14}  \n",
       "2   {'value': 0}  \n",
       "3   {'value': 7}  \n",
       "4  {'value': 28}  "
      ]
     },
     "execution_count": 5,
     "metadata": {},
     "output_type": "execute_result"
    }
   ],
   "source": [
    "tf_df.head()"
   ]
  },
  {
   "cell_type": "code",
   "execution_count": 35,
   "metadata": {},
   "outputs": [
    {
     "name": "stderr",
     "output_type": "stream",
     "text": [
      "/tmp/ipykernel_998226/3250462592.py:2: FutureWarning: In a future version of pandas, parsing datetimes with mixed time zones will raise an error unless `utc=True`. Please specify `utc=True` to opt in to the new behaviour and silence this warning. To create a `Series` with mixed offsets and `object` dtype, please use `apply` and `datetime.datetime.strptime`\n",
      "  tf_df['dateFrom'] = pd.to_datetime(tf_df['dateObservedFrom'].apply(lambda x: x.split(\"'\")[3]))\n",
      "/tmp/ipykernel_998226/3250462592.py:3: FutureWarning: In a future version of pandas, parsing datetimes with mixed time zones will raise an error unless `utc=True`. Please specify `utc=True` to opt in to the new behaviour and silence this warning. To create a `Series` with mixed offsets and `object` dtype, please use `apply` and `datetime.datetime.strptime`\n",
      "  tf_df['dateTo'] = pd.to_datetime(tf_df['dateObservedTo'].apply(lambda x: x.split(\"'\")[3]))\n"
     ]
    }
   ],
   "source": [
    "# Convert date strings to datetime objects\n",
    "tf_df['dateFrom'] = pd.to_datetime(tf_df['dateObservedFrom'].apply(lambda x: x.split(\"'\")[3]))\n",
    "tf_df['dateTo'] = pd.to_datetime(tf_df['dateObservedTo'].apply(lambda x: x.split(\"'\")[3]))\n",
    "\n",
    "# Remove timezone information\n",
    "tf_df[\"dateTo\"] = tf_df[\"dateTo\"].apply(lambda x: x.tz_localize(None))\n",
    "tf_df[\"dateFrom\"] = tf_df[\"dateFrom\"].apply(lambda x: x.tz_localize(None))\n",
    "\n",
    "# Define your date range\n",
    "start_date = pd.to_datetime('2022-07-01')\n",
    "end_date = pd.to_datetime('2022-12-31')\n",
    "\n",
    "# Filter the DataFrame\n",
    "filtered_df = tf_df[(tf_df['dateFrom'] >= start_date) & (tf_df['dateTo'] <= end_date)]\n"
   ]
  },
  {
   "cell_type": "code",
   "execution_count": 45,
   "metadata": {},
   "outputs": [
    {
     "name": "stderr",
     "output_type": "stream",
     "text": [
      "/tmp/ipykernel_998226/2744385253.py:1: SettingWithCopyWarning: \n",
      "A value is trying to be set on a copy of a slice from a DataFrame.\n",
      "Try using .loc[row_indexer,col_indexer] = value instead\n",
      "\n",
      "See the caveats in the documentation: https://pandas.pydata.org/pandas-docs/stable/user_guide/indexing.html#returning-a-view-versus-a-copy\n",
      "  filtered_df[\"processed_id\"] = filtered_df[\"id\"].apply(lambda x: x.split(\":\")[-1])\n"
     ]
    }
   ],
   "source": [
    "filtered_df[\"processed_id\"] = filtered_df[\"id\"].apply(lambda x: x.split(\":\")[-1])"
   ]
  },
  {
   "cell_type": "code",
   "execution_count": 65,
   "metadata": {},
   "outputs": [],
   "source": [
    "def get_latitude(row):\n",
    "    return float(row.split(\":\")[-1].split(\",\")[0].split(\"[\")[-1])"
   ]
  },
  {
   "cell_type": "code",
   "execution_count": 66,
   "metadata": {},
   "outputs": [],
   "source": [
    "def get_longitude(row):\n",
    "    return float(row.split(\":\")[-1].split(\",\")[-1].split(\"]\")[0])"
   ]
  },
  {
   "cell_type": "code",
   "execution_count": 67,
   "metadata": {},
   "outputs": [
    {
     "name": "stderr",
     "output_type": "stream",
     "text": [
      "/tmp/ipykernel_998226/3900067009.py:1: SettingWithCopyWarning: \n",
      "A value is trying to be set on a copy of a slice from a DataFrame.\n",
      "Try using .loc[row_indexer,col_indexer] = value instead\n",
      "\n",
      "See the caveats in the documentation: https://pandas.pydata.org/pandas-docs/stable/user_guide/indexing.html#returning-a-view-versus-a-copy\n",
      "  filtered_df[\"longitude\"] = filtered_df[\"location\"].apply(lambda x: get_longitude(x))\n",
      "/tmp/ipykernel_998226/3900067009.py:2: SettingWithCopyWarning: \n",
      "A value is trying to be set on a copy of a slice from a DataFrame.\n",
      "Try using .loc[row_indexer,col_indexer] = value instead\n",
      "\n",
      "See the caveats in the documentation: https://pandas.pydata.org/pandas-docs/stable/user_guide/indexing.html#returning-a-view-versus-a-copy\n",
      "  filtered_df[\"latitude\"] = filtered_df[\"location\"].apply(lambda x: get_latitude(x))\n"
     ]
    }
   ],
   "source": [
    "filtered_df[\"longitude\"] = filtered_df[\"location\"].apply(lambda x: get_longitude(x))\n",
    "filtered_df[\"latitude\"] = filtered_df[\"location\"].apply(lambda x: get_latitude(x))"
   ]
  },
  {
   "cell_type": "code",
   "execution_count": 76,
   "metadata": {},
   "outputs": [],
   "source": [
    "def get_values(row):\n",
    "    return int(row.split(\":\")[-1].split(\"}\")[0])"
   ]
  },
  {
   "cell_type": "code",
   "execution_count": 79,
   "metadata": {},
   "outputs": [
    {
     "name": "stderr",
     "output_type": "stream",
     "text": [
      "/tmp/ipykernel_998226/2314187766.py:1: SettingWithCopyWarning: \n",
      "A value is trying to be set on a copy of a slice from a DataFrame.\n",
      "Try using .loc[row_indexer,col_indexer] = value instead\n",
      "\n",
      "See the caveats in the documentation: https://pandas.pydata.org/pandas-docs/stable/user_guide/indexing.html#returning-a-view-versus-a-copy\n",
      "  filtered_df[\"intensity\"] = filtered_df[\"intensity\"].apply(lambda x: get_values(x))\n",
      "/tmp/ipykernel_998226/2314187766.py:2: SettingWithCopyWarning: \n",
      "A value is trying to be set on a copy of a slice from a DataFrame.\n",
      "Try using .loc[row_indexer,col_indexer] = value instead\n",
      "\n",
      "See the caveats in the documentation: https://pandas.pydata.org/pandas-docs/stable/user_guide/indexing.html#returning-a-view-versus-a-copy\n",
      "  filtered_df[\"ocupancy\"] = filtered_df[\"ocupancy\"].apply(lambda x: get_values(x))\n"
     ]
    }
   ],
   "source": [
    "filtered_df[\"intensity\"] = filtered_df[\"intensity\"].apply(lambda x: get_values(x))\n",
    "filtered_df[\"ocupancy\"] = filtered_df[\"ocupancy\"].apply(lambda x: get_values(x))"
   ]
  },
  {
   "cell_type": "code",
   "execution_count": 81,
   "metadata": {},
   "outputs": [],
   "source": [
    "clean_df = filtered_df[[\"dateFrom\", \"dateTo\",\n",
    "                        \"processed_id\", \"longitude\",\n",
    "                        \"latitude\", \"intensity\", \"ocupancy\"]]"
   ]
  },
  {
   "cell_type": "code",
   "execution_count": 84,
   "metadata": {},
   "outputs": [],
   "source": [
    "clean_df.to_csv(\"../data/processed/traffic_flow_clean.csv\", index=False)"
   ]
  }
 ],
 "metadata": {
  "kernelspec": {
   "display_name": "venv-hackacity",
   "language": "python",
   "name": "python3"
  },
  "language_info": {
   "codemirror_mode": {
    "name": "ipython",
    "version": 3
   },
   "file_extension": ".py",
   "mimetype": "text/x-python",
   "name": "python",
   "nbconvert_exporter": "python",
   "pygments_lexer": "ipython3",
   "version": "3.9.18"
  }
 },
 "nbformat": 4,
 "nbformat_minor": 2
}
