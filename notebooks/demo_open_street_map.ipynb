{
 "cells": [
  {
   "cell_type": "code",
   "execution_count": null,
   "metadata": {},
   "outputs": [],
   "source": [
    "from os.path import join\n",
    "\n",
    "import folium\n",
    "import osmnx as ox\n",
    "\n",
    "from config import report_dir"
   ]
  },
  {
   "cell_type": "code",
   "execution_count": null,
   "metadata": {},
   "outputs": [],
   "source": [
    "# Define the city of interest (Porto, Portugal)\n",
    "place_name = \"Porto, Portugal\"\n",
    "\n",
    "# Retrieve the road network data for Porto\n",
    "graph = ox.graph_from_place(place_name, network_type=\"drive\")"
   ]
  },
  {
   "cell_type": "code",
   "execution_count": null,
   "metadata": {},
   "outputs": [],
   "source": [
    "# Plot the road network (optional)\n",
    "# ox.plot_graph(graph)"
   ]
  },
  {
   "cell_type": "code",
   "execution_count": null,
   "metadata": {},
   "outputs": [],
   "source": [
    "# Create a Folium map centered around Porto\n",
    "center_node = list(graph.nodes())[0]\n",
    "map_porto = folium.Map(\n",
    "    location=[graph.nodes[center_node][\"y\"], graph.nodes[center_node][\"x\"]],\n",
    "    zoom_start=12,\n",
    ")\n",
    "\n",
    "# Plot the road network on the map\n",
    "road_color = \"blue\"\n",
    "for u, v, data in graph.edges(keys=False, data=True):\n",
    "    # If no geometry, use the nodes' positions\n",
    "    start = (graph.nodes[u][\"y\"], graph.nodes[u][\"x\"])\n",
    "    end = (graph.nodes[v][\"y\"], graph.nodes[v][\"x\"])\n",
    "    folium.PolyLine(locations=[start, end], color=road_color, weight=3).add_to(\n",
    "        map_porto\n",
    "    )"
   ]
  },
  {
   "cell_type": "code",
   "execution_count": null,
   "metadata": {},
   "outputs": [],
   "source": [
    "# Save the map as an HTML file (optional)\n",
    "map_porto.save(join(report_dir, \"porto_road_network.html\"))"
   ]
  }
 ],
 "metadata": {
  "language_info": {
   "codemirror_mode": {
    "name": "ipython",
    "version": 3
   },
   "file_extension": ".py",
   "mimetype": "text/x-python",
   "name": "python",
   "nbconvert_exporter": "python",
   "pygments_lexer": "ipython3",
   "version": "3.9.18"
  }
 },
 "nbformat": 4,
 "nbformat_minor": 2
}
