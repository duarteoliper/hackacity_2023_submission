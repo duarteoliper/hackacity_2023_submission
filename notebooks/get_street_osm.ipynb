{
 "cells": [
  {
   "cell_type": "code",
   "execution_count": 2,
   "metadata": {},
   "outputs": [
    {
     "ename": "OverpassSyntaxError",
     "evalue": "[out:json];\n    [out:json];\n    way[\"name\"=\"Ponte D. Luís\"][\"highway\"=\"primary\"];\n    out body;\n    >;\n    out skel qt;out body;",
     "output_type": "error",
     "traceback": [
      "\u001b[0;31m---------------------------------------------------------------------------\u001b[0m",
      "\u001b[0;31mOverpassSyntaxError\u001b[0m                       Traceback (most recent call last)",
      "\u001b[1;32m/home/duartepereira/MLProjects/competitions/Hackacity/hackacity_2023_submission/notebooks/get_street_osm.ipynb Cell 1\u001b[0m line \u001b[0;36m2\n\u001b[1;32m     <a href='vscode-notebook-cell://wsl%2Bubuntu-20.04/home/duartepereira/MLProjects/competitions/Hackacity/hackacity_2023_submission/notebooks/get_street_osm.ipynb#W0sdnNjb2RlLXJlbW90ZQ%3D%3D?line=21'>22</a>\u001b[0m     \u001b[39mreturn\u001b[39;00m bridge_coordinates\n\u001b[1;32m     <a href='vscode-notebook-cell://wsl%2Bubuntu-20.04/home/duartepereira/MLProjects/competitions/Hackacity/hackacity_2023_submission/notebooks/get_street_osm.ipynb#W0sdnNjb2RlLXJlbW90ZQ%3D%3D?line=23'>24</a>\u001b[0m \u001b[39m# Get coordinates of the bridge\u001b[39;00m\n\u001b[0;32m---> <a href='vscode-notebook-cell://wsl%2Bubuntu-20.04/home/duartepereira/MLProjects/competitions/Hackacity/hackacity_2023_submission/notebooks/get_street_osm.ipynb#W0sdnNjb2RlLXJlbW90ZQ%3D%3D?line=24'>25</a>\u001b[0m bridge_coords \u001b[39m=\u001b[39m get_bridge_coordinates()\n\u001b[1;32m     <a href='vscode-notebook-cell://wsl%2Bubuntu-20.04/home/duartepereira/MLProjects/competitions/Hackacity/hackacity_2023_submission/notebooks/get_street_osm.ipynb#W0sdnNjb2RlLXJlbW90ZQ%3D%3D?line=26'>27</a>\u001b[0m \u001b[39m# Create a folium map centered around the bridge coordinates\u001b[39;00m\n\u001b[1;32m     <a href='vscode-notebook-cell://wsl%2Bubuntu-20.04/home/duartepereira/MLProjects/competitions/Hackacity/hackacity_2023_submission/notebooks/get_street_osm.ipynb#W0sdnNjb2RlLXJlbW90ZQ%3D%3D?line=27'>28</a>\u001b[0m m \u001b[39m=\u001b[39m folium\u001b[39m.\u001b[39mMap(location\u001b[39m=\u001b[39mbridge_coords[\u001b[39m0\u001b[39m], zoom_start\u001b[39m=\u001b[39m\u001b[39m15\u001b[39m)\n",
      "\u001b[1;32m/home/duartepereira/MLProjects/competitions/Hackacity/hackacity_2023_submission/notebooks/get_street_osm.ipynb Cell 1\u001b[0m line \u001b[0;36m1\n\u001b[1;32m      <a href='vscode-notebook-cell://wsl%2Bubuntu-20.04/home/duartepereira/MLProjects/competitions/Hackacity/hackacity_2023_submission/notebooks/get_street_osm.ipynb#W0sdnNjb2RlLXJlbW90ZQ%3D%3D?line=4'>5</a>\u001b[0m api \u001b[39m=\u001b[39m overpass\u001b[39m.\u001b[39mAPI()\n\u001b[1;32m      <a href='vscode-notebook-cell://wsl%2Bubuntu-20.04/home/duartepereira/MLProjects/competitions/Hackacity/hackacity_2023_submission/notebooks/get_street_osm.ipynb#W0sdnNjb2RlLXJlbW90ZQ%3D%3D?line=5'>6</a>\u001b[0m query \u001b[39m=\u001b[39m \u001b[39m\"\"\"\u001b[39m\n\u001b[1;32m      <a href='vscode-notebook-cell://wsl%2Bubuntu-20.04/home/duartepereira/MLProjects/competitions/Hackacity/hackacity_2023_submission/notebooks/get_street_osm.ipynb#W0sdnNjb2RlLXJlbW90ZQ%3D%3D?line=6'>7</a>\u001b[0m \u001b[39m[out:json];\u001b[39m\n\u001b[1;32m      <a href='vscode-notebook-cell://wsl%2Bubuntu-20.04/home/duartepereira/MLProjects/competitions/Hackacity/hackacity_2023_submission/notebooks/get_street_osm.ipynb#W0sdnNjb2RlLXJlbW90ZQ%3D%3D?line=7'>8</a>\u001b[0m \u001b[39mway[\u001b[39m\u001b[39m\"\u001b[39m\u001b[39mname\u001b[39m\u001b[39m\"\u001b[39m\u001b[39m=\u001b[39m\u001b[39m\"\u001b[39m\u001b[39mPonte D. Luís\u001b[39m\u001b[39m\"\u001b[39m\u001b[39m][\u001b[39m\u001b[39m\"\u001b[39m\u001b[39mhighway\u001b[39m\u001b[39m\"\u001b[39m\u001b[39m=\u001b[39m\u001b[39m\"\u001b[39m\u001b[39mprimary\u001b[39m\u001b[39m\"\u001b[39m\u001b[39m];\u001b[39m\n\u001b[0;32m   (...)\u001b[0m\n\u001b[1;32m     <a href='vscode-notebook-cell://wsl%2Bubuntu-20.04/home/duartepereira/MLProjects/competitions/Hackacity/hackacity_2023_submission/notebooks/get_street_osm.ipynb#W0sdnNjb2RlLXJlbW90ZQ%3D%3D?line=10'>11</a>\u001b[0m \u001b[39mout skel qt;\u001b[39m\n\u001b[1;32m     <a href='vscode-notebook-cell://wsl%2Bubuntu-20.04/home/duartepereira/MLProjects/competitions/Hackacity/hackacity_2023_submission/notebooks/get_street_osm.ipynb#W0sdnNjb2RlLXJlbW90ZQ%3D%3D?line=11'>12</a>\u001b[0m \u001b[39m\u001b[39m\u001b[39m\"\"\"\u001b[39m\n\u001b[0;32m---> <a href='vscode-notebook-cell://wsl%2Bubuntu-20.04/home/duartepereira/MLProjects/competitions/Hackacity/hackacity_2023_submission/notebooks/get_street_osm.ipynb#W0sdnNjb2RlLXJlbW90ZQ%3D%3D?line=12'>13</a>\u001b[0m response \u001b[39m=\u001b[39m api\u001b[39m.\u001b[39;49mGet(query)\n\u001b[1;32m     <a href='vscode-notebook-cell://wsl%2Bubuntu-20.04/home/duartepereira/MLProjects/competitions/Hackacity/hackacity_2023_submission/notebooks/get_street_osm.ipynb#W0sdnNjb2RlLXJlbW90ZQ%3D%3D?line=14'>15</a>\u001b[0m bridge_coordinates \u001b[39m=\u001b[39m []\n\u001b[1;32m     <a href='vscode-notebook-cell://wsl%2Bubuntu-20.04/home/duartepereira/MLProjects/competitions/Hackacity/hackacity_2023_submission/notebooks/get_street_osm.ipynb#W0sdnNjb2RlLXJlbW90ZQ%3D%3D?line=15'>16</a>\u001b[0m \u001b[39mfor\u001b[39;00m element \u001b[39min\u001b[39;00m response[\u001b[39m'\u001b[39m\u001b[39melements\u001b[39m\u001b[39m'\u001b[39m]:\n",
      "File \u001b[0;32m~/MLProjects/competitions/Hackacity/hackacity_2023_submission/.venv-hackacity/lib/python3.9/site-packages/overpass/api.py:97\u001b[0m, in \u001b[0;36mAPI.get\u001b[0;34m(self, query, responseformat, verbosity, build)\u001b[0m\n\u001b[1;32m     94\u001b[0m     logging\u001b[39m.\u001b[39mgetLogger()\u001b[39m.\u001b[39minfo(query)\n\u001b[1;32m     96\u001b[0m \u001b[39m# Get the response from Overpass\u001b[39;00m\n\u001b[0;32m---> 97\u001b[0m r \u001b[39m=\u001b[39m \u001b[39mself\u001b[39;49m\u001b[39m.\u001b[39;49m_get_from_overpass(full_query)\n\u001b[1;32m     98\u001b[0m content_type \u001b[39m=\u001b[39m r\u001b[39m.\u001b[39mheaders\u001b[39m.\u001b[39mget(\u001b[39m\"\u001b[39m\u001b[39mcontent-type\u001b[39m\u001b[39m\"\u001b[39m)\n\u001b[1;32m    100\u001b[0m \u001b[39mif\u001b[39;00m \u001b[39mself\u001b[39m\u001b[39m.\u001b[39mdebug:\n",
      "File \u001b[0;32m~/MLProjects/competitions/Hackacity/hackacity_2023_submission/.venv-hackacity/lib/python3.9/site-packages/overpass/api.py:177\u001b[0m, in \u001b[0;36mAPI._get_from_overpass\u001b[0;34m(self, query)\u001b[0m\n\u001b[1;32m    175\u001b[0m \u001b[39mif\u001b[39;00m \u001b[39mself\u001b[39m\u001b[39m.\u001b[39m_status \u001b[39m!=\u001b[39m \u001b[39m200\u001b[39m:\n\u001b[1;32m    176\u001b[0m     \u001b[39mif\u001b[39;00m \u001b[39mself\u001b[39m\u001b[39m.\u001b[39m_status \u001b[39m==\u001b[39m \u001b[39m400\u001b[39m:\n\u001b[0;32m--> 177\u001b[0m         \u001b[39mraise\u001b[39;00m OverpassSyntaxError(query)\n\u001b[1;32m    178\u001b[0m     \u001b[39melif\u001b[39;00m \u001b[39mself\u001b[39m\u001b[39m.\u001b[39m_status \u001b[39m==\u001b[39m \u001b[39m429\u001b[39m:\n\u001b[1;32m    179\u001b[0m         \u001b[39mraise\u001b[39;00m MultipleRequestsError()\n",
      "\u001b[0;31mOverpassSyntaxError\u001b[0m: [out:json];\n    [out:json];\n    way[\"name\"=\"Ponte D. Luís\"][\"highway\"=\"primary\"];\n    out body;\n    >;\n    out skel qt;out body;"
     ]
    }
   ],
   "source": [
    "import folium\n",
    "import overpass\n",
    "\n",
    "def get_bridge_coordinates():\n",
    "    api = overpass.API()\n",
    "    query = \"\"\"\n",
    "    [out:json];\n",
    "    way[\"name\"=\"Ponte D. Luís\"][\"highway\"=\"primary\"];\n",
    "    out body;\n",
    "    >;\n",
    "    out skel qt;\n",
    "    \"\"\"\n",
    "    response = api.Get(query)\n",
    "\n",
    "    bridge_coordinates = []\n",
    "    for element in response['elements']:\n",
    "        if element['type'] == 'way':\n",
    "            for node_id in element['nodes']:\n",
    "                node = api.get_node(node_id)\n",
    "                bridge_coordinates.append((node['lat'], node['lon']))  # Note: Reversed order for folium\n",
    "\n",
    "    return bridge_coordinates\n",
    "\n",
    "# Get coordinates of the bridge\n",
    "bridge_coords = get_bridge_coordinates()\n",
    "\n",
    "# Create a folium map centered around the bridge coordinates\n",
    "m = folium.Map(location=bridge_coords[0], zoom_start=15)\n",
    "\n",
    "# Add markers for each point on the bridge coordinates\n",
    "for coord in bridge_coords:\n",
    "    folium.Marker(location=coord, icon=folium.Icon(color='blue')).add_to(m)\n",
    "\n",
    "# Display the map\n",
    "m.save('bridge_map.html')  # Save map to an HTML file\n"
   ]
  }
 ],
 "metadata": {
  "kernelspec": {
   "display_name": ".venv-hackacity",
   "language": "python",
   "name": "python3"
  },
  "language_info": {
   "codemirror_mode": {
    "name": "ipython",
    "version": 3
   },
   "file_extension": ".py",
   "mimetype": "text/x-python",
   "name": "python",
   "nbconvert_exporter": "python",
   "pygments_lexer": "ipython3",
   "version": "3.9.18"
  }
 },
 "nbformat": 4,
 "nbformat_minor": 2
}
