{
 "cells": [
  {
   "cell_type": "code",
   "execution_count": 8,
   "metadata": {},
   "outputs": [],
   "source": [
    "import requests\n",
    "import folium\n",
    "\n",
    "def get_coordinates(location):\n",
    "    base_url = \"https://nominatim.openstreetmap.org/search\"\n",
    "    params = {\n",
    "        \"q\": location,\n",
    "        \"format\": \"json\"\n",
    "    }\n",
    "    response = requests.get(base_url, params=params)\n",
    "    if response.ok:\n",
    "        data = response.json()\n",
    "        if data:\n",
    "            return {\n",
    "                \"latitude\": float(data[0]['lat']),\n",
    "                \"longitude\": float(data[0]['lon'])\n",
    "            }\n",
    "        else:\n",
    "            return None\n",
    "    else:\n",
    "        print(\"Error fetching coordinates\")\n",
    "        return None\n"
   ]
  },
  {
   "cell_type": "code",
   "execution_count": 9,
   "metadata": {},
   "outputs": [
    {
     "name": "stdout",
     "output_type": "stream",
     "text": [
      "Latitude: 41.1408993\n",
      "Longitude: -8.6096857\n"
     ]
    }
   ],
   "source": [
    "# Replace 'New York City' with your desired location\n",
    "location_name = 'Ponte D. Luis I, Porto'\n",
    "coordinates = get_coordinates(location_name)\n",
    "\n",
    "if coordinates:\n",
    "    print(\"Latitude:\", coordinates['latitude'])\n",
    "    print(\"Longitude:\", coordinates['longitude'])\n",
    "\n",
    "    # Create map centered at the obtained coordinates\n",
    "    map_center = [coordinates['latitude'], coordinates['longitude']]\n",
    "    my_map = folium.Map(location=map_center, zoom_start=12)\n",
    "\n",
    "    # Add marker for the location\n",
    "    folium.Marker(\n",
    "        location=map_center,\n",
    "        popup=location_name,\n",
    "        icon=folium.Icon(color='blue', icon='info-sign')\n",
    "    ).add_to(my_map)\n",
    "\n",
    "    # Save map as HTML\n",
    "    my_map.save(\"my_map.html\")\n",
    "\n",
    "    # Display the map\n",
    "    my_map"
   ]
  }
 ],
 "metadata": {
  "kernelspec": {
   "display_name": ".venv-hackacity",
   "language": "python",
   "name": "python3"
  },
  "language_info": {
   "codemirror_mode": {
    "name": "ipython",
    "version": 3
   },
   "file_extension": ".py",
   "mimetype": "text/x-python",
   "name": "python",
   "nbconvert_exporter": "python",
   "pygments_lexer": "ipython3",
   "version": "3.9.18"
  }
 },
 "nbformat": 4,
 "nbformat_minor": 2
}
